{
 "cells": [
  {
   "cell_type": "code",
   "execution_count": 8,
   "id": "d9156b01",
   "metadata": {
    "cellId": "evncsujikk6vkpgr8t2bd"
   },
   "outputs": [
    {
     "name": "stderr",
     "output_type": "stream",
     "text": [
      "/home/jupyter/.local/lib/python3.7/site-packages/torch/cuda/__init__.py:52: UserWarning: CUDA initialization: Found no NVIDIA driver on your system. Please check that you have an NVIDIA GPU and installed a driver from http://www.nvidia.com/Download/index.aspx (Triggered internally at  /pytorch/c10/cuda/CUDAFunctions.cpp:100.)\n",
      "  return torch._C._cuda_getDeviceCount() > 0\n"
     ]
    }
   ],
   "source": [
    "import numpy as np\n",
    "import torch\n",
    "from transformers import GPT2LMHeadModel, GPT2Tokenizer\n",
    "tok = GPT2Tokenizer.from_pretrained(\"models/panorama_large\")\n",
    "model = GPT2LMHeadModel.from_pretrained(\"models/panorama_large\")"
   ]
  },
  {
   "cell_type": "code",
   "execution_count": 10,
   "id": "473015eb",
   "metadata": {
    "cellId": "f2m7w2na5jp9yt7sy7789t"
   },
   "outputs": [],
   "source": [
    "from random import randrange"
   ]
  },
  {
   "cell_type": "code",
   "execution_count": 11,
   "id": "b55f53a3",
   "metadata": {
    "cellId": "32rbu8eyq4ii753hxl6xm"
   },
   "outputs": [
    {
     "data": {
      "text/plain": [
       "Cannot apply result: following variables are changed in this cell and need manual merge: tok, randrange, model\n",
       "To apply changes run: %apply_state 7615d178-49b1-44a2-96c5-88f5ec83d81d/7688df5e-0045-42a0-94b5-b428d072d82b"
      ]
     },
     "metadata": {
      "info_type": "execution_status"
     },
     "output_type": "display_data"
    },
    {
     "name": "stdout",
     "output_type": "stream",
     "text": [
      "Тема:  Политика. Заголовок : В Госдуму внесен законопроект о запрете использования иностранных интернет-сервисов без согласования с Роскомнадзором. Содержимое изменено 21 июля 2021 года - после внесения в Государственную думу\n"
     ]
    },
    {
     "name": "stderr",
     "output_type": "stream",
     "text": [
      "Setting `pad_token_id` to `eos_token_id`:50256 for open-end generation.\n",
      "Setting `pad_token_id` to `eos_token_id`:50256 for open-end generation.\n",
      "Setting `pad_token_id` to `eos_token_id`:50256 for open-end generation.\n"
     ]
    },
    {
     "name": "stdout",
     "output_type": "stream",
     "text": [
      "Тема:  Общество. Заголовок : В США школьникам, отказавшимся носить галстук во время учёбы в школе и вне стен учебного заведения ввели пятидневную рабочую неделю за отказ от него на рабочем месте. Содержимое этого материала\n"
     ]
    },
    {
     "name": "stderr",
     "output_type": "stream",
     "text": [
      "Setting `pad_token_id` to `eos_token_id`:50256 for open-end generation.\n"
     ]
    },
    {
     "name": "stdout",
     "output_type": "stream",
     "text": [
      "Тема:  Политика. Заголовок : Президент Туркменистана отказался от премии Сахарова из-за обвинений в плагиате. Содержимое изменено 12 мая 2021 года\n",
      "София Палеолог - последняя королева Англии\n"
     ]
    },
    {
     "name": "stderr",
     "output_type": "stream",
     "text": [
      "Setting `pad_token_id` to `eos_token_id`:50256 for open-end generation.\n"
     ]
    },
    {
     "name": "stdout",
     "output_type": "stream",
     "text": [
      "Тема:  Политика. Заголовок : На время проведения парада Победы в Москве рестораны и кафе обяжут согласовывать с мэрией меню на русском языке. Содержимое изменено 12 марта 2021 года – накануне празднования Дня победы\n"
     ]
    },
    {
     "name": "stderr",
     "output_type": "stream",
     "text": [
      "Setting `pad_token_id` to `eos_token_id`:50256 for open-end generation.\n"
     ]
    },
    {
     "name": "stdout",
     "output_type": "stream",
     "text": [
      "Тема:  Общество. Заголовок : «Не надо стесняться высказываться на тему вакцинации»: в Минздраве объяснили, почему прививки от гриппа сделают платными. Содержимое - Министерство здравоохранения РФ опубликовало пресс-рели\n"
     ]
    },
    {
     "name": "stderr",
     "output_type": "stream",
     "text": [
      "Setting `pad_token_id` to `eos_token_id`:50256 for open-end generation.\n"
     ]
    },
    {
     "name": "stdout",
     "output_type": "stream",
     "text": [
      "Тема:  Политика. Заголовок : «Я за Навального и буду президентом»: ЦИК Белоруссии утвердил список кандидатов в президенты на 2024 год по белорусскому избирательному округу №212 (Бобруйский район, гродненская область\n"
     ]
    },
    {
     "name": "stderr",
     "output_type": "stream",
     "text": [
      "Setting `pad_token_id` to `eos_token_id`:50256 for open-end generation.\n"
     ]
    },
    {
     "name": "stdout",
     "output_type": "stream",
     "text": [
      "Тема:  Общество. Заголовок : В США школьника выгнали из школы после того, как он не смог объяснить разницу между c и d. Содержимое этого материала разместил на своей странице в Twitter юрист Марк Левинсон\n"
     ]
    },
    {
     "name": "stderr",
     "output_type": "stream",
     "text": [
      "Setting `pad_token_id` to `eos_token_id`:50256 for open-end generation.\n"
     ]
    },
    {
     "name": "stdout",
     "output_type": "stream",
     "text": [
      "Тема:  Общество. Заголовок : «Беларашмор – это наше национальное достояние»: Лукашенко распорядился выделить 200 гектаров заповедника для постройки синагоги и пансионата отдыха чиновников. Содержимое за 23 ноября 2019 года\n"
     ]
    },
    {
     "name": "stderr",
     "output_type": "stream",
     "text": [
      "Setting `pad_token_id` to `eos_token_id`:50256 for open-end generation.\n"
     ]
    },
    {
     "name": "stdout",
     "output_type": "stream",
     "text": [
      "Тема:  Общество. Заголовок : В Госдуме предложили штрафовать граждан за отказ вакцинироваться от COVID-19 и коронавируса в случае, если они не привиты. Содержимое этого материала ИА «\n"
     ]
    },
    {
     "name": "stderr",
     "output_type": "stream",
     "text": [
      "Setting `pad_token_id` to `eos_token_id`:50256 for open-end generation.\n"
     ]
    },
    {
     "name": "stdout",
     "output_type": "stream",
     "text": [
      "Тема:  Экономика. Заголовок : В России введут налог на бедность. Содержимое:- Министерство экономического развития подготовило законопроект, предусматривающий ввод ежегодного налога в размере 5 % для лиц с официальным доходом ниже прожиточного\n"
     ]
    },
    {
     "name": "stderr",
     "output_type": "stream",
     "text": [
      "Setting `pad_token_id` to `eos_token_id`:50256 for open-end generation.\n"
     ]
    },
    {
     "name": "stdout",
     "output_type": "stream",
     "text": [
      "Тема:  Политика. Заголовок : «Мы думали, что это наш кандидат»: ЦИК Белоруссии объяснил отказ зарегистрировать Тихановскую кандидатом от оппозиции. Содержимое этого материала приведёт ИА \"Панорама\". Глава белорусского Центриз\n"
     ]
    },
    {
     "name": "stderr",
     "output_type": "stream",
     "text": [
      "Setting `pad_token_id` to `eos_token_id`:50256 for open-end generation.\n"
     ]
    },
    {
     "name": "stdout",
     "output_type": "stream",
     "text": [
      "Тема:  Общество. Заголовок : Минтранс предложил оплачивать авиаперелёты школьникам, не сдавшим нормы ГТО и подтянувшим дисциплины по предмету за год до отправления в школу. Содержимое этого материала разместил\n"
     ]
    },
    {
     "name": "stderr",
     "output_type": "stream",
     "text": [
      "Setting `pad_token_id` to `eos_token_id`:50256 for open-end generation.\n"
     ]
    },
    {
     "name": "stdout",
     "output_type": "stream",
     "text": [
      "Тема:  Политика. Заголовок : Китайский министр получил повышение до заместителя главы Госсовета КНР по культуре и искусству. Содержимое:- В Китае состоялось вручение высших партийных наград деятелям культуры, науки или искусства в соответствии с указом\n"
     ]
    },
    {
     "name": "stderr",
     "output_type": "stream",
     "text": [
      "Setting `pad_token_id` to `eos_token_id`:50256 for open-end generation.\n"
     ]
    },
    {
     "name": "stdout",
     "output_type": "stream",
     "text": [
      "Тема:  Политика. Заголовок : В Госдуме призвали ввести уголовную ответственность за поддержку Навального и его сторонников вне закона. Содержимое этого материала авторство которого не установлено, но который широко распространился в сети интернет – о том что\n"
     ]
    },
    {
     "name": "stderr",
     "output_type": "stream",
     "text": [
      "Setting `pad_token_id` to `eos_token_id`:50256 for open-end generation.\n"
     ]
    },
    {
     "name": "stdout",
     "output_type": "stream",
     "text": [
      "Тема:  Политика. Заголовок : «Мы хотели, чтобы у нас был дворец с видом на Кремль»: в МИД рассказали о желании Лукашенко передать Москве секретные протоколы Совбеза ООН. Содержимое этого материала дополняет рассказ\n"
     ]
    },
    {
     "name": "stderr",
     "output_type": "stream",
     "text": [
      "Setting `pad_token_id` to `eos_token_id`:50256 for open-end generation.\n"
     ]
    },
    {
     "name": "stdout",
     "output_type": "stream",
     "text": [
      "Тема:  Общество. Заголовок : На месте снесённой гостиницы «Москва» откроется музей советского ГУЛАГа. Содержимое изменено 22 мая 2020 г., 14 часов 23 минуты по московскому времени\n",
      "Посетители смогут увидеть мак\n"
     ]
    },
    {
     "name": "stderr",
     "output_type": "stream",
     "text": [
      "Setting `pad_token_id` to `eos_token_id`:50256 for open-end generation.\n"
     ]
    },
    {
     "name": "stdout",
     "output_type": "stream",
     "text": [
      "Тема:  Политика. Заголовок : В Китае объявили о старте кампании «Светоча демократии». Содержимое:- Министерство общественной безопасности КНР объявило, что с завтрашнего дня начинает кампанию по освещению в СМИ и сети Интернет\n"
     ]
    },
    {
     "name": "stderr",
     "output_type": "stream",
     "text": [
      "Setting `pad_token_id` to `eos_token_id`:50256 for open-end generation.\n"
     ]
    },
    {
     "name": "stdout",
     "output_type": "stream",
     "text": [
      "Тема:  Политика. Заголовок : В России введут уголовную ответственность за отрицание подвига Гагарина. Содержимое.: Депутаты Государственной думы в третьем (окончательном) чтении приняли поправки к Уголовному кодексу РФ, дополнив\n"
     ]
    },
    {
     "name": "stderr",
     "output_type": "stream",
     "text": [
      "Setting `pad_token_id` to `eos_token_id`:50256 for open-end generation.\n"
     ]
    },
    {
     "name": "stdout",
     "output_type": "stream",
     "text": [
      "Тема:  Политика. Заголовок : «Мы не собираемся в ближайшее время штурмовать Зимний»: Дмитрий Песков отказался комментировать информацию о штурме дворца Амина. Содержимое изменено 12 марта 2021 года – на следующий день после\n"
     ]
    },
    {
     "name": "stderr",
     "output_type": "stream",
     "text": [
      "Setting `pad_token_id` to `eos_token_id`:50256 for open-end generation.\n"
     ]
    },
    {
     "name": "stdout",
     "output_type": "stream",
     "text": [
      "Тема:  Политика. Заголовок : Китайский чиновник, продавший Родину за 10 тыс долларов, будет выслан из страны пожизненно. Содержимое изменено пользователем kamikadzedead1984 на форуме «\n"
     ]
    },
    {
     "name": "stderr",
     "output_type": "stream",
     "text": [
      "Setting `pad_token_id` to `eos_token_id`:50256 for open-end generation.\n"
     ]
    },
    {
     "name": "stdout",
     "output_type": "stream",
     "text": [
      "Тема:  Политика. Заголовок : В Госдуме призвали ввести санкции против Китая за сорванный туристический сезон в России. Содержимое.: Депутат Государственной думы Виталий Милонов выступил с инициативой введения ответных мер на введение Китаем ограничительных\n"
     ]
    },
    {
     "name": "stderr",
     "output_type": "stream",
     "text": [
      "Setting `pad_token_id` to `eos_token_id`:50256 for open-end generation.\n"
     ]
    },
    {
     "name": "stdout",
     "output_type": "stream",
     "text": [
      "Тема:  Политика. Заголовок : В Госдуму внесён законопроект о запрете рукопожатий в стенах парламента. Содержимое этого материала приведёт вас к посту Дмитрия Медведева \"О здоровом образе жизни\", где он отвечает на вопросы депутатов и\n"
     ]
    },
    {
     "name": "stderr",
     "output_type": "stream",
     "text": [
      "Setting `pad_token_id` to `eos_token_id`:50256 for open-end generation.\n"
     ]
    },
    {
     "name": "stdout",
     "output_type": "stream",
     "text": [
      "Тема:  Политика. Заголовок : «Мы не будем проводить парад Победы в Москве 9 мая»: МИД Китая опроверг проведение парада на Красной площади по случаю 75-й годовщины победы над нацистской Германией и 8 сентября, посвящённого победе\n"
     ]
    },
    {
     "name": "stderr",
     "output_type": "stream",
     "text": [
      "Setting `pad_token_id` to `eos_token_id`:50256 for open-end generation.\n"
     ]
    },
    {
     "name": "stdout",
     "output_type": "stream",
     "text": [
      "Тема:  Политика. Заголовок : Президент Венесуэлы попросил у Китая помощи в очистке страны от американских ставленников. Содержимое.: Николас Мадуро обратился к руководству КНР и лично председателю Си Цзиньпину с\n"
     ]
    },
    {
     "name": "stderr",
     "output_type": "stream",
     "text": [
      "Setting `pad_token_id` to `eos_token_id`:50256 for open-end generation.\n"
     ]
    },
    {
     "name": "stdout",
     "output_type": "stream",
     "text": [
      "Тема:  Политика. Заголовок : На месте памятника маршалу Коневу в Праге установят памятник Солженицыну. Содержимое этого материала ИА «Панорама» приводит слова министра культуры Чехии Зденки Рашкичовой,\n"
     ]
    },
    {
     "name": "stderr",
     "output_type": "stream",
     "text": [
      "Setting `pad_token_id` to `eos_token_id`:50256 for open-end generation.\n"
     ]
    },
    {
     "name": "stdout",
     "output_type": "stream",
     "text": [
      "Тема:  Общество. Заголовок : На Красной площади пройдёт патриотический митинг-концерт «Мы помним подвиг наших дедов». Содержимое:- 9 мая в 20 часов на Поклонной горе у могилы Неизвестного солдата состоится торжественный\n"
     ]
    },
    {
     "name": "stderr",
     "output_type": "stream",
     "text": [
      "Setting `pad_token_id` to `eos_token_id`:50256 for open-end generation.\n"
     ]
    },
    {
     "name": "stdout",
     "output_type": "stream",
     "text": [
      "Тема:  Политика. Заголовок : «Враги России»: в ЦРУ объяснили, почему не могут считать Навального агентом ГРУ. Содержимое:- В последнее время мы получили множество сообщений о якобы работе российских спецслужб с оппозиционерами и их\n"
     ]
    },
    {
     "name": "stderr",
     "output_type": "stream",
     "text": [
      "Setting `pad_token_id` to `eos_token_id`:50256 for open-end generation.\n"
     ]
    },
    {
     "name": "stdout",
     "output_type": "stream",
     "text": [
      "Тема:  Экономика. Заголовок : «Сбербанк» выпустит криптовалюту, привязанную к номеру мобильного телефона её владельца. Содержимое:- крупнейший в России универсальный банк объявил о выпуске собственной цифровой валюты под названием\n"
     ]
    },
    {
     "name": "stderr",
     "output_type": "stream",
     "text": [
      "Setting `pad_token_id` to `eos_token_id`:50256 for open-end generation.\n"
     ]
    },
    {
     "name": "stdout",
     "output_type": "stream",
     "text": [
      "Тема:  Политика. Заголовок : В Белоруссии запретили праздновать День Победы над нацистской Германией. Содержимое.: Министерство культуры Республики Беларусь приняло постановление о запрете празднования в стране Дня победы Советского Союза против гитлеровской Германии, отмечавшегося\n"
     ]
    },
    {
     "name": "stderr",
     "output_type": "stream",
     "text": [
      "Setting `pad_token_id` to `eos_token_id`:50256 for open-end generation.\n"
     ]
    },
    {
     "name": "stdout",
     "output_type": "stream",
     "text": [
      "Тема:  Политика. Заголовок : На экстренном совещании Совбеза ООН приняли резолюцию о признании независимости Косово. Содержимое:- В связи с ситуацией в косовском крае, где продолжаются бои между армией самопровозглашённой\n"
     ]
    },
    {
     "name": "stderr",
     "output_type": "stream",
     "text": [
      "Setting `pad_token_id` to `eos_token_id`:50256 for open-end generation.\n"
     ]
    },
    {
     "name": "stdout",
     "output_type": "stream",
     "text": [
      "Тема:  Общество. Заголовок : В США отменили ежегодный карнавал в честь Дня благодарения за издевки над чернокожими. Содержимое - Власти американского штата Теннесси приняли решение о проведении на территории региона\n"
     ]
    },
    {
     "name": "stderr",
     "output_type": "stream",
     "text": [
      "Setting `pad_token_id` to `eos_token_id`:50256 for open-end generation.\n"
     ]
    },
    {
     "name": "stdout",
     "output_type": "stream",
     "text": [
      "Тема:  Политика. Заголовок : «Враги России»: МИД Белоруссии опубликовал перехваченное сообщение ЦРУ с угрозами в адрес российских спортсменов и чиновников. Содержимое этого сенсационного сообщения стало известно на днях из рассекреченных материалов Национального\n"
     ]
    },
    {
     "name": "stderr",
     "output_type": "stream",
     "text": [
      "Setting `pad_token_id` to `eos_token_id`:50256 for open-end generation.\n"
     ]
    },
    {
     "name": "stdout",
     "output_type": "stream",
     "text": [
      "Тема:  Экономика. Заголовок : Сбербанк и «Сбербанк Онлайн» объединят в одно юрлицо. Содержимое - Крупнейший российский банк планирует к концу 2020 года полностью перевести все свои процессы, включая обслуживание клиентов\n"
     ]
    },
    {
     "name": "stderr",
     "output_type": "stream",
     "text": [
      "Setting `pad_token_id` to `eos_token_id`:50256 for open-end generation.\n"
     ]
    },
    {
     "name": "stdout",
     "output_type": "stream",
     "text": [
      "Тема:  Политика. Заголовок : Китайский министр, выступая в Госдуме назвал Навального агентом ФСБ и потребовал немедленно снять с него это клеймо. Содержимое - В понедельник на расширенной коллегии Минобороны РФ глава ведомства Сергей Шойгу отчит\n"
     ]
    },
    {
     "name": "stderr",
     "output_type": "stream",
     "text": [
      "Setting `pad_token_id` to `eos_token_id`:50256 for open-end generation.\n"
     ]
    },
    {
     "name": "stdout",
     "output_type": "stream",
     "text": [
      "Тема:  Политика. Заголовок : В России создадут реестр политзаключённых, осужденных за анекдоты про евреев и поляков*. Содержимое:- Министерство юстиции РФ объявило о создании реестра политически неблагонадёжных россиян\n"
     ]
    },
    {
     "name": "stderr",
     "output_type": "stream",
     "text": [
      "Setting `pad_token_id` to `eos_token_id`:50256 for open-end generation.\n"
     ]
    },
    {
     "name": "stdout",
     "output_type": "stream",
     "text": [
      "Тема:  Экономика. Заголовок : Сбербанк начал выдачу кредитов с отрицательной ставкой. Содержимое.: ПАО \"Сбербанк России\" в рамках программы ребрендинга и перехода на безбумажную экономику запускает программу\n"
     ]
    },
    {
     "name": "stderr",
     "output_type": "stream",
     "text": [
      "Setting `pad_token_id` to `eos_token_id`:50256 for open-end generation.\n"
     ]
    },
    {
     "name": "stdout",
     "output_type": "stream",
     "text": [
      "Тема:  Общество. Заголовок : В США школьника, отказавшегося носить георгиевскую ленточку во время урока толерантности в средней школе обвинили в покушении на свободу чернокожих. Содержимое изменено пользова\n"
     ]
    },
    {
     "name": "stderr",
     "output_type": "stream",
     "text": [
      "Setting `pad_token_id` to `eos_token_id`:50256 for open-end generation.\n"
     ]
    },
    {
     "name": "stdout",
     "output_type": "stream",
     "text": [
      "Тема:  Политика. Заголовок : «Я не знаю, кто это и как его зовут – пусть они сами с ним разберутся»: посол Венесуэлы вызван в МИД для дачи объяснений после публикации The Insider о причастности Мадуро к\n"
     ]
    },
    {
     "name": "stderr",
     "output_type": "stream",
     "text": [
      "Setting `pad_token_id` to `eos_token_id`:50256 for open-end generation.\n"
     ]
    },
    {
     "name": "stdout",
     "output_type": "stream",
     "text": [
      "Тема:  Общество. Заголовок : В России создадут реестр атеистов и язычников с указанием их вероисповедания. Содержимое за 23 января 2020 года\n",
      "Зарегистрированные участники федеральной программы «Церковь в обмен\n"
     ]
    },
    {
     "name": "stderr",
     "output_type": "stream",
     "text": [
      "Setting `pad_token_id` to `eos_token_id`:50256 for open-end generation.\n"
     ]
    },
    {
     "name": "stdout",
     "output_type": "stream",
     "text": [
      "Тема:  Политика. Заголовок : В Госдуму внесён законопроект о переносе Дня народного единства на 7 ноября. Содержимое:- Комитет Государственной думы по государственному строительству завершил подготовку ко второму чтению законопроекта «О праздновании всероссийских\n"
     ]
    },
    {
     "name": "stderr",
     "output_type": "stream",
     "text": [
      "Setting `pad_token_id` to `eos_token_id`:50256 for open-end generation.\n"
     ]
    },
    {
     "name": "stdout",
     "output_type": "stream",
     "text": [
      "Тема:  Политика. Заголовок : На сайте ЦРУ появилось предупреждение, что Россия причастна к отравлению Скрипалей в Солсбери. Содержимое:- Официальный сайт Центрального разведывательного управления (ЦРУ) опубликовал на своём официальном YouTube\n"
     ]
    },
    {
     "name": "stderr",
     "output_type": "stream",
     "text": [
      "Setting `pad_token_id` to `eos_token_id`:50256 for open-end generation.\n"
     ]
    },
    {
     "name": "stdout",
     "output_type": "stream",
     "text": [
      "Тема:  Общество. Заголовок : В Москве установят памятник первому космонавту Юрию Гагарину на ВДНХ в образе Юрия Алексеевича Гагарина. Содержимое этого поста вызвало ажиотаж среди москвичей и гостей столицы после\n"
     ]
    },
    {
     "name": "stderr",
     "output_type": "stream",
     "text": [
      "Setting `pad_token_id` to `eos_token_id`:50256 for open-end generation.\n"
     ]
    },
    {
     "name": "stdout",
     "output_type": "stream",
     "text": [
      "Тема:  Общество. Заголовок : В России запретят эксплуатацию трамваев без кондукторов. Содержимое изменено 23 ноября 2018 г.: Госдума приняла законопроект, согласно которому в городах с численностью населения более 5000 человек будут\n"
     ]
    },
    {
     "name": "stderr",
     "output_type": "stream",
     "text": [
      "Setting `pad_token_id` to `eos_token_id`:50256 for open-end generation.\n"
     ]
    },
    {
     "name": "stdout",
     "output_type": "stream",
     "text": [
      "Тема:  Политика. Заголовок : В России введут уголовную ответственность за отрицание победы в Великой Отечественной войне 1941-1945 годов. Содержимое:- Парламент принял законопроект \"Об увековечивании памяти Победы советского народа\n"
     ]
    },
    {
     "name": "stderr",
     "output_type": "stream",
     "text": [
      "Setting `pad_token_id` to `eos_token_id`:50256 for open-end generation.\n"
     ]
    },
    {
     "name": "stdout",
     "output_type": "stream",
     "text": [
      "Тема:  Общество. Заголовок : «Мы с семьёй хотим переехать в Австралию»: Александр Невский сообщил о покупке жилья на одном из австралийских курортов. Содержимое изменено 12 мая 2019, 14 часов 30 минут\n"
     ]
    },
    {
     "name": "stderr",
     "output_type": "stream",
     "text": [
      "Setting `pad_token_id` to `eos_token_id`:50256 for open-end generation.\n"
     ]
    },
    {
     "name": "stdout",
     "output_type": "stream",
     "text": [
      "Тема:  Политика. Заголовок : На учениях НАТО пилоты бомбардировщиков сбрасывали бомбы в скопления российских войск, чтобы повысить их боеготовность. Содержимое:- Во время учений ВВС США и Великобритании над Атлантикой истребители\n"
     ]
    },
    {
     "name": "stderr",
     "output_type": "stream",
     "text": [
      "Setting `pad_token_id` to `eos_token_id`:50256 for open-end generation.\n"
     ]
    },
    {
     "name": "stdout",
     "output_type": "stream",
     "text": [
      "Тема:  Общество. Заголовок : В Китае объявили о переходе на советские ГОСТы по выпуску тракторов и комбайнов в 1980-е годы. Содержимое:- Министерство промышленности КНР сообщило об окончании переходного периода сроком с\n"
     ]
    },
    {
     "name": "stderr",
     "output_type": "stream",
     "text": [
      "Setting `pad_token_id` to `eos_token_id`:50256 for open-end generation.\n"
     ]
    },
    {
     "name": "stdout",
     "output_type": "stream",
     "text": [
      "Тема:  Политика. Заголовок : В России могут вернуть телесные наказания розгами. Содержимое этого обновления будет зависеть от решения Госсовета РФ, который в понедельник рассмотрит вопрос о возвращении порке как одному из видов наказаний\n"
     ]
    },
    {
     "name": "stderr",
     "output_type": "stream",
     "text": [
      "Setting `pad_token_id` to `eos_token_id`:50256 for open-end generation.\n"
     ]
    },
    {
     "name": "stdout",
     "output_type": "stream",
     "text": [
      "Тема:  Экономика. Заголовок : В Китае за год создано свыше 500 тыс рабочих мест для мигрантов из Африки и Средней Азии. Содержимое:- Китайский государственный статистический комитет опубликовал ежегодный отчёт о количестве созданных в стране новых предприятий\n"
     ]
    },
    {
     "name": "stderr",
     "output_type": "stream",
     "text": [
      "Setting `pad_token_id` to `eos_token_id`:50256 for open-end generation.\n"
     ]
    },
    {
     "name": "stdout",
     "output_type": "stream",
     "text": [
      "Тема:  Политика. Заголовок : В Белоруссии арестовали оппозиционера, назвавшего главу государства агентом ФСБ. Содержимое:- Сотрудники КГБ Республики Беларусь пресекли попытку организации в стране митинга численностью более 500 человек с требованием освободить из заключения лидера\n"
     ]
    },
    {
     "name": "stderr",
     "output_type": "stream",
     "text": [
      "Setting `pad_token_id` to `eos_token_id`:50256 for open-end generation.\n"
     ]
    },
    {
     "name": "stdout",
     "output_type": "stream",
     "text": [
      "Тема:  Общество. Заголовок : Минспорта закупит в Китае систему Умный ошейник, отслеживающую покусы насекомых и место их пребывания на теле человека. Содержимое:- Министерство спорта России заключило контракт с государственной компанией \"\n"
     ]
    },
    {
     "name": "stderr",
     "output_type": "stream",
     "text": [
      "Setting `pad_token_id` to `eos_token_id`:50256 for open-end generation.\n"
     ]
    },
    {
     "name": "stdout",
     "output_type": "stream",
     "text": [
      "Тема:  Политика. Заголовок : В России создадут спецподразделение по борьбе с фейками о Навальном. Содержимое:- Правительство РФ приступило к формированию первого специализированного подразделения для борьбы со средствами массовой дезинформации\n"
     ]
    },
    {
     "name": "stderr",
     "output_type": "stream",
     "text": [
      "Setting `pad_token_id` to `eos_token_id`:50256 for open-end generation.\n"
     ]
    },
    {
     "name": "stdout",
     "output_type": "stream",
     "text": [
      "Тема:  Политика. Заголовок : На учениях белорусской армии солдаты стреляли в сторону Польши из БТР и пулемётов, а не по условному противнику. Содержимое этого материала дополняет картину происходящего на полигоне «Б\n"
     ]
    },
    {
     "name": "stderr",
     "output_type": "stream",
     "text": [
      "Setting `pad_token_id` to `eos_token_id`:50256 for open-end generation.\n"
     ]
    },
    {
     "name": "stdout",
     "output_type": "stream",
     "text": [
      "Тема:  Политика. Заголовок : Президент Туркменистана подарил ковёр-самолёт главе Палаты представителей Конгресса США после встречи в Белом доме. Содержимое:- После завершения официальной части визита президент Гурбангулы\n"
     ]
    },
    {
     "name": "stderr",
     "output_type": "stream",
     "text": [
      "Setting `pad_token_id` to `eos_token_id`:50256 for open-end generation.\n"
     ]
    },
    {
     "name": "stdout",
     "output_type": "stream",
     "text": [
      "Тема:  Общество. Заголовок : В России введут налог за пользование Wi-Fi роутерами без регистрации. Содержимое этого материала размещено на официальном сайте правительства РФ и носит уведомительный характер для граждан, желающих использовать услуги\n"
     ]
    },
    {
     "name": "stderr",
     "output_type": "stream",
     "text": [
      "Setting `pad_token_id` to `eos_token_id`:50256 for open-end generation.\n"
     ]
    },
    {
     "name": "stdout",
     "output_type": "stream",
     "text": [
      "Тема:  Политика. Заголовок : «В России появится аналог Google Earth, но без Крыма»: Институт русского языка им Виноградова РАН выпустил словарь синонимов слова Крым. Содержимое этого материала дополнено директором Института лингвистических\n"
     ]
    },
    {
     "name": "stderr",
     "output_type": "stream",
     "text": [
      "Setting `pad_token_id` to `eos_token_id`:50256 for open-end generation.\n"
     ]
    },
    {
     "name": "stdout",
     "output_type": "stream",
     "text": [
      "Тема:  Общество. Заголовок : В США запретили играть в игры, основанные на серии фильмов Человек-паук. Содержимое:- Верховный суд штата Луизиана удовлетворил иск группы активистов о запрете компьютерных игр с участием главного\n"
     ]
    },
    {
     "name": "stderr",
     "output_type": "stream",
     "text": [
      "Setting `pad_token_id` to `eos_token_id`:50256 for open-end generation.\n"
     ]
    },
    {
     "name": "stdout",
     "output_type": "stream",
     "text": [
      "Тема:  Политика. Заголовок : В Госдуме предложили приравнять чиновников к врагам народа из-за их финансовой деятельности и имущества за границей. Содержимое:- Группа депутатов Госдумы внесла в Государственную думу законопроект, который позволяет\n"
     ]
    },
    {
     "name": "stderr",
     "output_type": "stream",
     "text": [
      "Setting `pad_token_id` to `eos_token_id`:50256 for open-end generation.\n"
     ]
    },
    {
     "name": "stdout",
     "output_type": "stream",
     "text": [
      "Тема:  Политика. Заголовок : В Китае переименовали город, где родился Мао Цзэдун. Содержимое.: Власти Шанхая (КНР) назвали в честь лидера КНР и основателя китайской компартии -\n"
     ]
    },
    {
     "name": "stderr",
     "output_type": "stream",
     "text": [
      "Setting `pad_token_id` to `eos_token_id`:50256 for open-end generation.\n"
     ]
    },
    {
     "name": "stdout",
     "output_type": "stream",
     "text": [
      "Тема:  Политика. Заголовок : В России создадут спецприёмники для бывших сотрудников спецслужб и депутатов, обвиняемых в госизмене. Содержимое:- Федеральная миграционная служба (ФМС) совместно с министерством\n"
     ]
    },
    {
     "name": "stderr",
     "output_type": "stream",
     "text": [
      "Setting `pad_token_id` to `eos_token_id`:50256 for open-end generation.\n"
     ]
    },
    {
     "name": "stdout",
     "output_type": "stream",
     "text": [
      "Тема:  Общество. Заголовок : В США запретили продавать и дарить одежду с изображением Дональда Трампа из-за ассоциаций со смертью американского лидера. Содержимое:- Окружной суд Вашингтона удовлетворил иск общественной организации Black Lives\n"
     ]
    },
    {
     "name": "stderr",
     "output_type": "stream",
     "text": [
      "Setting `pad_token_id` to `eos_token_id`:50256 for open-end generation.\n"
     ]
    },
    {
     "name": "stdout",
     "output_type": "stream",
     "text": [
      "Тема:  Политика. Заголовок : Президент Туркменистана отказался покидать пост из-за проблем со спиной и не сможет принять участие в очередных выборах главы государства, назначенных на 2024 год.. Содержимое:- В Ашха\n"
     ]
    },
    {
     "name": "stderr",
     "output_type": "stream",
     "text": [
      "Setting `pad_token_id` to `eos_token_id`:50256 for open-end generation.\n"
     ]
    },
    {
     "name": "stdout",
     "output_type": "stream",
     "text": [
      "Тема:  Общество. Заголовок : «Я бы с радостью поговорила со Стрелковым, но его телефон прослушивается СБУ»: Мария Бутина опровергла связь своего мужа Владислава Журавлёва и Алексея Мозгового. Содержим\n",
      "Тема:  Общество. Заголовок : На Украине запретили праздновать годовщину Октябрьской революции 1917 года. Содержимое:- Министерство культуры Украины приняло постановление, которым внесло Октябрьский переворот в число исторических событий XX века и ввело запрет на\n"
     ]
    }
   ],
   "source": [
    "#pragma async\n",
    "#!g1.1\n",
    "model.cuda()\n",
    "for i in range(0, 64):\n",
    "    seed = randrange(0, 100000)\n",
    "    np.random.seed(seed)\n",
    "    torch.manual_seed(seed)\n",
    "    text = \"Тема: \"\n",
    "    inpt = tok.encode(text, return_tensors=\"pt\")\n",
    "    out = model.generate(inpt.cuda(), max_length=50, repetition_penalty=5.0, do_sample=True, top_k=5, top_p=0.95, temperature=1)\n",
    "    print(tok.decode(out[0]))"
   ]
  }
 ],
 "metadata": {
  "kernelspec": {
   "display_name": "Python 3 (ipykernel)",
   "language": "python",
   "name": "python3"
  },
  "language_info": {
   "codemirror_mode": {
    "name": "ipython",
    "version": 3
   },
   "file_extension": ".py",
   "mimetype": "text/x-python",
   "name": "python",
   "nbconvert_exporter": "python",
   "pygments_lexer": "ipython3",
   "version": "3.10.1"
  },
  "notebookId": "2185600a-9f79-448c-bd2b-63befee92900",
  "notebookPath": "Generate.ipynb"
 },
 "nbformat": 4,
 "nbformat_minor": 5
}
