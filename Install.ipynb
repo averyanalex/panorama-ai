{
 "cells": [
  {
   "cell_type": "code",
   "execution_count": 9,
   "metadata": {
    "cellId": "lsw29t2iwhjtvysoqlfpx"
   },
   "outputs": [
    {
     "name": "stdout",
     "output_type": "stream",
     "text": [
      "CUDA version: 10.1\n"
     ]
    }
   ],
   "source": [
    "import subprocess\n",
    "\n",
    "CUDA_version = [s for s in subprocess.check_output([\"nvcc\", \"--version\"]).decode(\"UTF-8\").split(\", \") if s.startswith(\"release\")][0].split(\" \")[-1]\n",
    "print(\"CUDA version:\", CUDA_version)\n",
    "\n",
    "if CUDA_version == \"10.0\":\n",
    "    torch_version_suffix = \"+cu100\"\n",
    "elif CUDA_version == \"10.1\":\n",
    "    torch_version_suffix = \"+cu101\"\n",
    "elif CUDA_version == \"10.2\":\n",
    "    torch_version_suffix = \"\"\n",
    "else:\n",
    "    torch_version_suffix = \"+cu110\""
   ]
  },
  {
   "cell_type": "code",
   "execution_count": 10,
   "metadata": {
    "cellId": "dfwnfby43enrhglcutfod"
   },
   "outputs": [
    {
     "name": "stdout",
     "output_type": "stream",
     "text": [
      "Defaulting to user installation because normal site-packages is not writeable\n",
      "Looking in links: https://download.pytorch.org/whl/torch_stable.html\n",
      "Collecting torch==1.7.1+cu101\n",
      "  Downloading https://download.pytorch.org/whl/cu101/torch-1.7.1%2Bcu101-cp37-cp37m-linux_x86_64.whl (735.4 MB)\n",
      "     |████████████████████████████████| 735.4 MB 5.1 kB/s             \n",
      "\u001b[?25hCollecting torchvision==0.8.2+cu101\n",
      "  Downloading https://download.pytorch.org/whl/cu101/torchvision-0.8.2%2Bcu101-cp37-cp37m-linux_x86_64.whl (12.8 MB)\n",
      "     |████████████████████████████████| 12.8 MB 64.5 MB/s            \n",
      "\u001b[?25hCollecting torchaudio==0.7.2\n",
      "  Downloading torchaudio-0.7.2-cp37-cp37m-manylinux1_x86_64.whl (7.6 MB)\n",
      "     |████████████████████████████████| 7.6 MB 2.3 MB/s            \n",
      "\u001b[?25hRequirement already satisfied: numpy in /kernel/lib/python3.7/site-packages (from torch==1.7.1+cu101) (1.19.4)\n",
      "Requirement already satisfied: typing-extensions in /kernel/lib/python3.7/site-packages (from torch==1.7.1+cu101) (4.0.1)\n",
      "Requirement already satisfied: pillow>=4.1.1 in /kernel/lib/python3.7/site-packages (from torchvision==0.8.2+cu101) (8.4.0)\n",
      "Installing collected packages: torch, torchvision, torchaudio\n",
      "\u001b[33m  WARNING: The scripts convert-caffe2-to-onnx and convert-onnx-to-caffe2 are installed in '/home/jupyter/.local/bin' which is not on PATH.\n",
      "  Consider adding this directory to PATH or, if you prefer to suppress this warning, use --no-warn-script-location.\u001b[0m\n",
      "\u001b[31mERROR: pip's dependency resolver does not currently take into account all the packages that are installed. This behaviour is the source of the following dependency conflicts.\n",
      "mmdet 2.3.0rc0+c6b5ca2 requires Pillow<=6.2.2, but you have pillow 8.4.0 which is incompatible.\n",
      "mmdet 2.3.0rc0+c6b5ca2 requires torch==1.6.0, but you have torch 1.7.1+cu101 which is incompatible.\n",
      "mmdet 2.3.0rc0+c6b5ca2 requires torchvision==0.7.0, but you have torchvision 0.8.2+cu101 which is incompatible.\n",
      "enot-utils 1.0.2 requires torch==1.6.0, but you have torch 1.7.1+cu101 which is incompatible.\u001b[0m\n",
      "Successfully installed torch-1.7.1+cu101 torchaudio-0.7.2 torchvision-0.8.2+cu101\n"
     ]
    }
   ],
   "source": [
    "%pip install torch==1.7.1{torch_version_suffix} torchvision==0.8.2{torch_version_suffix} torchaudio==0.7.2 -f https://download.pytorch.org/whl/torch_stable.html"
   ]
  },
  {
   "cell_type": "code",
   "execution_count": 12,
   "metadata": {
    "cellId": "td7moezqa3f4j79ht2oovu"
   },
   "outputs": [
    {
     "name": "stdout",
     "output_type": "stream",
     "text": [
      "Defaulting to user installation because normal site-packages is not writeable\n",
      "Collecting transformers==3.5.1\n",
      "  Downloading transformers-3.5.1-py3-none-any.whl (1.3 MB)\n",
      "     |████████████████████████████████| 1.3 MB 2.4 MB/s            \n",
      "\u001b[?25hRequirement already satisfied: requests in /kernel/lib/python3.7/site-packages (from transformers==3.5.1) (2.25.1)\n",
      "Requirement already satisfied: numpy in /kernel/lib/python3.7/site-packages (from transformers==3.5.1) (1.19.4)\n",
      "Collecting sentencepiece==0.1.91\n",
      "  Downloading sentencepiece-0.1.91-cp37-cp37m-manylinux1_x86_64.whl (1.1 MB)\n",
      "     |████████████████████████████████| 1.1 MB 43.4 MB/s            \n",
      "\u001b[?25hRequirement already satisfied: tqdm>=4.27 in /usr/local/lib/python3.7/dist-packages (from transformers==3.5.1) (4.50.0)\n",
      "Requirement already satisfied: sacremoses in /usr/local/lib/python3.7/dist-packages (from transformers==3.5.1) (0.0.45)\n",
      "Requirement already satisfied: protobuf in /usr/local/lib/python3.7/dist-packages (from transformers==3.5.1) (3.17.3)\n",
      "Requirement already satisfied: packaging in /kernel/lib/python3.7/site-packages (from transformers==3.5.1) (20.9)\n",
      "Requirement already satisfied: filelock in /usr/local/lib/python3.7/dist-packages (from transformers==3.5.1) (3.0.12)\n",
      "Requirement already satisfied: regex!=2019.12.17 in /usr/local/lib/python3.7/dist-packages (from transformers==3.5.1) (2021.7.6)\n",
      "Collecting tokenizers==0.9.3\n",
      "  Downloading tokenizers-0.9.3-cp37-cp37m-manylinux1_x86_64.whl (2.9 MB)\n",
      "     |████████████████████████████████| 2.9 MB 74.5 MB/s            \n",
      "\u001b[?25hRequirement already satisfied: pyparsing>=2.0.2 in /kernel/lib/python3.7/site-packages (from packaging->transformers==3.5.1) (2.4.7)\n",
      "Requirement already satisfied: six>=1.9 in /kernel/lib/python3.7/site-packages (from protobuf->transformers==3.5.1) (1.16.0)\n",
      "Requirement already satisfied: idna<3,>=2.5 in /kernel/lib/python3.7/site-packages (from requests->transformers==3.5.1) (2.10)\n",
      "Requirement already satisfied: chardet<5,>=3.0.2 in /kernel/lib/python3.7/site-packages (from requests->transformers==3.5.1) (4.0.0)\n",
      "Requirement already satisfied: certifi>=2017.4.17 in /kernel/lib/python3.7/site-packages (from requests->transformers==3.5.1) (2021.10.8)\n",
      "Requirement already satisfied: urllib3<1.27,>=1.21.1 in /kernel/lib/python3.7/site-packages (from requests->transformers==3.5.1) (1.26.7)\n",
      "Requirement already satisfied: joblib in /usr/local/lib/python3.7/dist-packages (from sacremoses->transformers==3.5.1) (1.0.1)\n",
      "Requirement already satisfied: click in /usr/local/lib/python3.7/dist-packages (from sacremoses->transformers==3.5.1) (7.1.2)\n",
      "Installing collected packages: tokenizers, sentencepiece, transformers\n",
      "\u001b[33m  WARNING: The script transformers-cli is installed in '/home/jupyter/.local/bin' which is not on PATH.\n",
      "  Consider adding this directory to PATH or, if you prefer to suppress this warning, use --no-warn-script-location.\u001b[0m\n",
      "Successfully installed sentencepiece-0.1.91 tokenizers-0.9.3 transformers-3.5.1\n"
     ]
    }
   ],
   "source": [
    "%pip install transformers==3.5.1"
   ]
  },
  {
   "cell_type": "code",
   "execution_count": 13,
   "metadata": {
    "cellId": "ozno17t5dhqdwku5h3kmv6"
   },
   "outputs": [
    {
     "name": "stdout",
     "output_type": "stream",
     "text": [
      "Cloning into 'ru-gpts'...\n",
      "remote: Enumerating objects: 683, done.\u001b[K\n",
      "remote: Counting objects: 100% (178/178), done.\u001b[K\n",
      "remote: Compressing objects: 100% (94/94), done.\u001b[K\n",
      "remote: Total 683 (delta 110), reused 141 (delta 83), pack-reused 505\u001b[K\n",
      "Receiving objects: 100% (683/683), 413.81 KiB | 3.04 MiB/s, done.\n",
      "Resolving deltas: 100% (410/410), done.\n"
     ]
    }
   ],
   "source": [
    "!git clone https://github.com/sberbank-ai/ru-gpts"
   ]
  },
  {
   "cell_type": "code",
   "execution_count": 14,
   "metadata": {
    "cellId": "tuavkk2r8p9n1q3slaed3h"
   },
   "outputs": [],
   "source": [
    "!mkdir models/"
   ]
  }
 ],
 "metadata": {
  "accelerator": "GPU",
  "colab": {
   "collapsed_sections": [],
   "name": "RuGPT3FinetuneHF.ipynb",
   "provenance": []
  },
  "kernelspec": {
   "display_name": "Python 3 (ipykernel)",
   "language": "python",
   "name": "python3"
  },
  "language_info": {
   "codemirror_mode": {
    "name": "ipython",
    "version": 3
   },
   "file_extension": ".py",
   "mimetype": "text/x-python",
   "name": "python",
   "nbconvert_exporter": "python",
   "pygments_lexer": "ipython3",
   "version": "3.10.1"
  },
  "notebookId": "0ac660e5-78ea-4373-96b4-32f7bed2b5d4",
  "notebookPath": "Install.ipynb"
 },
 "nbformat": 4,
 "nbformat_minor": 4
}
