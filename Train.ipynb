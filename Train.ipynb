{
 "cells": [
  {
   "cell_type": "code",
   "execution_count": 24,
   "id": "3e743d9e",
   "metadata": {
    "cellId": "chw7phg8cr6emnsufgjyew"
   },
   "outputs": [
    {
     "name": "stdout",
     "output_type": "stream",
     "text": [
      "s]\u001b[A\n",
      "Iteration:  45%|████████████▋               | 1014/2238 [10:37<12:51,  1.59it/s]\u001b[A\n",
      "Iteration:  45%|████████████▋               | 1015/2238 [10:37<12:50,  1.59it/s]\u001b[A\n",
      "Iteration:  45%|████████████▋               | 1016/2238 [10:38<12:50,  1.59it/s]\u001b[A\n",
      "Iteration:  45%|████████████▋               | 1017/2238 [10:39<12:49,  1.59it/s]\u001b[A\n",
      "Iteration: 100%|███████████████████████████▉| 2234/2238 [23:24<00:02,  1.59it/s]\u001b[A\n",
      "Iteration: 100%|███████████████████████████▉| 2235/2238 [23:25<00:01,  1.59it/s]\u001b[A\n",
      "Iteration: 100%|███████████████████████████▉| 2236/2238 [23:25<00:01,  1.59it/s]\u001b[A\n",
      "Iteration: 100%|███████████████████████████▉| 2237/2238 [23:26<00:00,  1.59it/s]\u001b[A\n",
      "Iteration: 100%|████████████████████████████| 2238/2238 [23:27<00:00,  1.59it/s]\n",
      "Epoch: 100%|██████████████████████████████████| 5/5 [2:15:10<00:00, 1622.10s/it]\n",
      "01/01/2022 20:12:21 - INFO - __main__ -    global_step = 11190, average loss = 1.9078170253082085\n",
      "01/01/2022 20:12:21 - INFO - __main__ -   Saving model checkpoint to models/panorama_large\n",
      "01/01/2022 20:15:19 - INFO - __main__ -   Evaluate the following checkpoints: ['models/panorama_large']\n",
      "01/01/2022 20:15:50 - INFO - __main__ -   Creating features from dataset file at \n",
      "01/01/2022 20:16:05 - INFO - __main__ -   Saving features into cached file gpt2_cached_lm_1024_val.txt\n",
      "01/01/2022 20:16:05 - INFO - __main__ -   ***** Running evaluation  *****\n",
      "01/01/2022 20:16:05 - INFO - __main__ -     Num examples = 396\n",
      "01/01/2022 20:16:05 - INFO - __main__ -     Batch size = 4\n",
      "Evaluating: 100%|███████████████████████████████| 99/99 [01:03<00:00,  1.56it/s]\n",
      "01/01/2022 20:17:08 - INFO - __main__ -   ***** Eval results  *****\n",
      "01/01/2022 20:17:08 - INFO - __main__ -     perplexity = tensor(18.8288)\n"
     ]
    }
   ],
   "source": [
    "#!g1.1\n",
    "!export PYTHONPATH=${PYTHONPATH}:/ru-gpts/\n",
    "!CUDA_VISIBLE_DEVICES=0 python3 ru-gpts/pretrain_transformers.py \\\n",
    "    --output_dir=models/panorama_large \\\n",
    "    --model_type=gpt2 \\\n",
    "    --model_name_or_path=sberbank-ai/rugpt3large_based_on_gpt2 \\\n",
    "    --do_train \\\n",
    "    --train_data_file=train.txt \\\n",
    "    --do_eval \\\n",
    "    --eval_data_file=val.txt \\\n",
    "    --per_gpu_train_batch_size 1 \\\n",
    "    --gradient_accumulation_steps 1 \\\n",
    "    --num_train_epochs 5 \\\n",
    "    --block_size 1024 \\\n",
    "    --save_steps 4096 \\\n",
    "    --save_total_limit 1 \\\n",
    "    --overwrite_output_dir"
   ]
  }
 ],
 "metadata": {
  "kernelspec": {
   "display_name": "Python 3 (ipykernel)",
   "language": "python",
   "name": "python3"
  },
  "language_info": {
   "codemirror_mode": {
    "name": "ipython",
    "version": 3
   },
   "file_extension": ".py",
   "mimetype": "text/x-python",
   "name": "python",
   "nbconvert_exporter": "python",
   "pygments_lexer": "ipython3",
   "version": "3.10.1"
  },
  "notebookId": "4053778a-030b-455b-b71a-ef3887bc084f",
  "notebookPath": "Train.ipynb"
 },
 "nbformat": 4,
 "nbformat_minor": 5
}
